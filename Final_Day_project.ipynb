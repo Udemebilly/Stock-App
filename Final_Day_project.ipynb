{
  "nbformat": 4,
  "nbformat_minor": 0,
  "metadata": {
    "colab": {
      "name": "Final Day project.ipynb",
      "provenance": [],
      "collapsed_sections": [],
      "toc_visible": true
    },
    "kernelspec": {
      "display_name": "Python 3",
      "name": "python3"
    },
    "language_info": {
      "name": "python"
    }
  },
  "cells": [
    {
      "cell_type": "code",
      "metadata": {
        "id": "TFMot1x4EDRZ"
      },
      "source": [
        ""
      ],
      "execution_count": null,
      "outputs": []
    },
    {
      "cell_type": "code",
      "metadata": {
        "id": "4OC9G31gNkLd"
      },
      "source": [
        "import pandas as pd \n",
        "def load_data():\n",
        "    url = 'https://en.wikipedia.org/wiki/List_of_S%26P_500_companies'\n",
        "    html = pd.read_html(url, header = 0)\n",
        "    df = html[0]\n",
        "    return df"
      ],
      "execution_count": null,
      "outputs": []
    },
    {
      "cell_type": "code",
      "metadata": {
        "colab": {
          "base_uri": "https://localhost:8080/",
          "height": 527
        },
        "id": "xBt75eabNkIF",
        "outputId": "16d64369-65a5-4ab3-ce29-ccd70f891181"
      },
      "source": [
        "df = load_data()\n",
        "df"
      ],
      "execution_count": null,
      "outputs": [
        {
          "output_type": "execute_result",
          "data": {
            "text/html": [
              "<div>\n",
              "<style scoped>\n",
              "    .dataframe tbody tr th:only-of-type {\n",
              "        vertical-align: middle;\n",
              "    }\n",
              "\n",
              "    .dataframe tbody tr th {\n",
              "        vertical-align: top;\n",
              "    }\n",
              "\n",
              "    .dataframe thead th {\n",
              "        text-align: right;\n",
              "    }\n",
              "</style>\n",
              "<table border=\"1\" class=\"dataframe\">\n",
              "  <thead>\n",
              "    <tr style=\"text-align: right;\">\n",
              "      <th></th>\n",
              "      <th>Symbol</th>\n",
              "      <th>Security</th>\n",
              "      <th>SEC filings</th>\n",
              "      <th>GICS Sector</th>\n",
              "      <th>GICS Sub-Industry</th>\n",
              "      <th>Headquarters Location</th>\n",
              "      <th>Date first added</th>\n",
              "      <th>CIK</th>\n",
              "      <th>Founded</th>\n",
              "    </tr>\n",
              "  </thead>\n",
              "  <tbody>\n",
              "    <tr>\n",
              "      <th>0</th>\n",
              "      <td>MMM</td>\n",
              "      <td>3M</td>\n",
              "      <td>reports</td>\n",
              "      <td>Industrials</td>\n",
              "      <td>Industrial Conglomerates</td>\n",
              "      <td>Saint Paul, Minnesota</td>\n",
              "      <td>1976-08-09</td>\n",
              "      <td>66740</td>\n",
              "      <td>1902</td>\n",
              "    </tr>\n",
              "    <tr>\n",
              "      <th>1</th>\n",
              "      <td>ABT</td>\n",
              "      <td>Abbott Laboratories</td>\n",
              "      <td>reports</td>\n",
              "      <td>Health Care</td>\n",
              "      <td>Health Care Equipment</td>\n",
              "      <td>North Chicago, Illinois</td>\n",
              "      <td>1964-03-31</td>\n",
              "      <td>1800</td>\n",
              "      <td>1888</td>\n",
              "    </tr>\n",
              "    <tr>\n",
              "      <th>2</th>\n",
              "      <td>ABBV</td>\n",
              "      <td>AbbVie</td>\n",
              "      <td>reports</td>\n",
              "      <td>Health Care</td>\n",
              "      <td>Pharmaceuticals</td>\n",
              "      <td>North Chicago, Illinois</td>\n",
              "      <td>2012-12-31</td>\n",
              "      <td>1551152</td>\n",
              "      <td>2013 (1888)</td>\n",
              "    </tr>\n",
              "    <tr>\n",
              "      <th>3</th>\n",
              "      <td>ABMD</td>\n",
              "      <td>Abiomed</td>\n",
              "      <td>reports</td>\n",
              "      <td>Health Care</td>\n",
              "      <td>Health Care Equipment</td>\n",
              "      <td>Danvers, Massachusetts</td>\n",
              "      <td>2018-05-31</td>\n",
              "      <td>815094</td>\n",
              "      <td>1981</td>\n",
              "    </tr>\n",
              "    <tr>\n",
              "      <th>4</th>\n",
              "      <td>ACN</td>\n",
              "      <td>Accenture</td>\n",
              "      <td>reports</td>\n",
              "      <td>Information Technology</td>\n",
              "      <td>IT Consulting &amp; Other Services</td>\n",
              "      <td>Dublin, Ireland</td>\n",
              "      <td>2011-07-06</td>\n",
              "      <td>1467373</td>\n",
              "      <td>1989</td>\n",
              "    </tr>\n",
              "    <tr>\n",
              "      <th>...</th>\n",
              "      <td>...</td>\n",
              "      <td>...</td>\n",
              "      <td>...</td>\n",
              "      <td>...</td>\n",
              "      <td>...</td>\n",
              "      <td>...</td>\n",
              "      <td>...</td>\n",
              "      <td>...</td>\n",
              "      <td>...</td>\n",
              "    </tr>\n",
              "    <tr>\n",
              "      <th>500</th>\n",
              "      <td>YUM</td>\n",
              "      <td>Yum! Brands</td>\n",
              "      <td>reports</td>\n",
              "      <td>Consumer Discretionary</td>\n",
              "      <td>Restaurants</td>\n",
              "      <td>Louisville, Kentucky</td>\n",
              "      <td>1997-10-06</td>\n",
              "      <td>1041061</td>\n",
              "      <td>1997</td>\n",
              "    </tr>\n",
              "    <tr>\n",
              "      <th>501</th>\n",
              "      <td>ZBRA</td>\n",
              "      <td>Zebra Technologies</td>\n",
              "      <td>reports</td>\n",
              "      <td>Information Technology</td>\n",
              "      <td>Electronic Equipment &amp; Instruments</td>\n",
              "      <td>Lincolnshire, Illinois</td>\n",
              "      <td>2019-12-23</td>\n",
              "      <td>877212</td>\n",
              "      <td>1969</td>\n",
              "    </tr>\n",
              "    <tr>\n",
              "      <th>502</th>\n",
              "      <td>ZBH</td>\n",
              "      <td>Zimmer Biomet</td>\n",
              "      <td>reports</td>\n",
              "      <td>Health Care</td>\n",
              "      <td>Health Care Equipment</td>\n",
              "      <td>Warsaw, Indiana</td>\n",
              "      <td>2001-08-07</td>\n",
              "      <td>1136869</td>\n",
              "      <td>1927</td>\n",
              "    </tr>\n",
              "    <tr>\n",
              "      <th>503</th>\n",
              "      <td>ZION</td>\n",
              "      <td>Zions Bancorp</td>\n",
              "      <td>reports</td>\n",
              "      <td>Financials</td>\n",
              "      <td>Regional Banks</td>\n",
              "      <td>Salt Lake City, Utah</td>\n",
              "      <td>2001-06-22</td>\n",
              "      <td>109380</td>\n",
              "      <td>1873</td>\n",
              "    </tr>\n",
              "    <tr>\n",
              "      <th>504</th>\n",
              "      <td>ZTS</td>\n",
              "      <td>Zoetis</td>\n",
              "      <td>reports</td>\n",
              "      <td>Health Care</td>\n",
              "      <td>Pharmaceuticals</td>\n",
              "      <td>Parsippany, New Jersey</td>\n",
              "      <td>2013-06-21</td>\n",
              "      <td>1555280</td>\n",
              "      <td>1952</td>\n",
              "    </tr>\n",
              "  </tbody>\n",
              "</table>\n",
              "<p>505 rows × 9 columns</p>\n",
              "</div>"
            ],
            "text/plain": [
              "    Symbol             Security  ...      CIK      Founded\n",
              "0      MMM                   3M  ...    66740         1902\n",
              "1      ABT  Abbott Laboratories  ...     1800         1888\n",
              "2     ABBV               AbbVie  ...  1551152  2013 (1888)\n",
              "3     ABMD              Abiomed  ...   815094         1981\n",
              "4      ACN            Accenture  ...  1467373         1989\n",
              "..     ...                  ...  ...      ...          ...\n",
              "500    YUM          Yum! Brands  ...  1041061         1997\n",
              "501   ZBRA   Zebra Technologies  ...   877212         1969\n",
              "502    ZBH        Zimmer Biomet  ...  1136869         1927\n",
              "503   ZION        Zions Bancorp  ...   109380         1873\n",
              "504    ZTS               Zoetis  ...  1555280         1952\n",
              "\n",
              "[505 rows x 9 columns]"
            ]
          },
          "metadata": {
            "tags": []
          },
          "execution_count": 2
        }
      ]
    },
    {
      "cell_type": "code",
      "metadata": {
        "colab": {
          "base_uri": "https://localhost:8080/"
        },
        "id": "3ht7MKNrNkFF",
        "outputId": "4449fe1a-03bb-4b60-b7fb-3498594f6ad6"
      },
      "source": [
        "sector_unique = df['GICS Sector'].unique()\n",
        "sector_unique"
      ],
      "execution_count": null,
      "outputs": [
        {
          "output_type": "execute_result",
          "data": {
            "text/plain": [
              "array(['Industrials', 'Health Care', 'Information Technology',\n",
              "       'Communication Services', 'Consumer Discretionary', 'Utilities',\n",
              "       'Financials', 'Materials', 'Real Estate', 'Consumer Staples',\n",
              "       'Energy'], dtype=object)"
            ]
          },
          "metadata": {
            "tags": []
          },
          "execution_count": 3
        }
      ]
    },
    {
      "cell_type": "code",
      "metadata": {
        "colab": {
          "base_uri": "https://localhost:8080/"
        },
        "id": "5YrwDKlEOI5v",
        "outputId": "0b2e1584-d7da-4244-cb7c-248a68169750"
      },
      "source": [
        "len(sector_unique)"
      ],
      "execution_count": null,
      "outputs": [
        {
          "output_type": "execute_result",
          "data": {
            "text/plain": [
              "11"
            ]
          },
          "metadata": {
            "tags": []
          },
          "execution_count": 4
        }
      ]
    },
    {
      "cell_type": "code",
      "metadata": {
        "id": "8QHP4G0MOcVk"
      },
      "source": [
        "sector= df.groupby('GICS Sector')"
      ],
      "execution_count": null,
      "outputs": []
    },
    {
      "cell_type": "code",
      "metadata": {
        "colab": {
          "base_uri": "https://localhost:8080/",
          "height": 547
        },
        "id": "7Ub9z_HFOcMl",
        "outputId": "d09bdad8-a57c-40ea-c5d4-adb726480a00"
      },
      "source": [
        "sector.first()"
      ],
      "execution_count": null,
      "outputs": [
        {
          "output_type": "execute_result",
          "data": {
            "text/html": [
              "<div>\n",
              "<style scoped>\n",
              "    .dataframe tbody tr th:only-of-type {\n",
              "        vertical-align: middle;\n",
              "    }\n",
              "\n",
              "    .dataframe tbody tr th {\n",
              "        vertical-align: top;\n",
              "    }\n",
              "\n",
              "    .dataframe thead th {\n",
              "        text-align: right;\n",
              "    }\n",
              "</style>\n",
              "<table border=\"1\" class=\"dataframe\">\n",
              "  <thead>\n",
              "    <tr style=\"text-align: right;\">\n",
              "      <th></th>\n",
              "      <th>Symbol</th>\n",
              "      <th>Security</th>\n",
              "      <th>SEC filings</th>\n",
              "      <th>GICS Sub-Industry</th>\n",
              "      <th>Headquarters Location</th>\n",
              "      <th>Date first added</th>\n",
              "      <th>CIK</th>\n",
              "      <th>Founded</th>\n",
              "    </tr>\n",
              "    <tr>\n",
              "      <th>GICS Sector</th>\n",
              "      <th></th>\n",
              "      <th></th>\n",
              "      <th></th>\n",
              "      <th></th>\n",
              "      <th></th>\n",
              "      <th></th>\n",
              "      <th></th>\n",
              "      <th></th>\n",
              "    </tr>\n",
              "  </thead>\n",
              "  <tbody>\n",
              "    <tr>\n",
              "      <th>Communication Services</th>\n",
              "      <td>ATVI</td>\n",
              "      <td>Activision Blizzard</td>\n",
              "      <td>reports</td>\n",
              "      <td>Interactive Home Entertainment</td>\n",
              "      <td>Santa Monica, California</td>\n",
              "      <td>2015-08-31</td>\n",
              "      <td>718877</td>\n",
              "      <td>2008</td>\n",
              "    </tr>\n",
              "    <tr>\n",
              "      <th>Consumer Discretionary</th>\n",
              "      <td>AAP</td>\n",
              "      <td>Advance Auto Parts</td>\n",
              "      <td>reports</td>\n",
              "      <td>Automotive Retail</td>\n",
              "      <td>Raleigh, North Carolina</td>\n",
              "      <td>2015-07-09</td>\n",
              "      <td>1158449</td>\n",
              "      <td>1932</td>\n",
              "    </tr>\n",
              "    <tr>\n",
              "      <th>Consumer Staples</th>\n",
              "      <td>MO</td>\n",
              "      <td>Altria Group</td>\n",
              "      <td>reports</td>\n",
              "      <td>Tobacco</td>\n",
              "      <td>Richmond, Virginia</td>\n",
              "      <td>1957-03-04</td>\n",
              "      <td>764180</td>\n",
              "      <td>1985</td>\n",
              "    </tr>\n",
              "    <tr>\n",
              "      <th>Energy</th>\n",
              "      <td>APA</td>\n",
              "      <td>APA Corporation</td>\n",
              "      <td>reports</td>\n",
              "      <td>Oil &amp; Gas Exploration &amp; Production</td>\n",
              "      <td>Houston, Texas</td>\n",
              "      <td>1997-07-28</td>\n",
              "      <td>6769</td>\n",
              "      <td>1954</td>\n",
              "    </tr>\n",
              "    <tr>\n",
              "      <th>Financials</th>\n",
              "      <td>AFL</td>\n",
              "      <td>Aflac</td>\n",
              "      <td>reports</td>\n",
              "      <td>Life &amp; Health Insurance</td>\n",
              "      <td>Columbus, Georgia</td>\n",
              "      <td>1999-05-28</td>\n",
              "      <td>4977</td>\n",
              "      <td>1955</td>\n",
              "    </tr>\n",
              "    <tr>\n",
              "      <th>Health Care</th>\n",
              "      <td>ABT</td>\n",
              "      <td>Abbott Laboratories</td>\n",
              "      <td>reports</td>\n",
              "      <td>Health Care Equipment</td>\n",
              "      <td>North Chicago, Illinois</td>\n",
              "      <td>1964-03-31</td>\n",
              "      <td>1800</td>\n",
              "      <td>1888</td>\n",
              "    </tr>\n",
              "    <tr>\n",
              "      <th>Industrials</th>\n",
              "      <td>MMM</td>\n",
              "      <td>3M</td>\n",
              "      <td>reports</td>\n",
              "      <td>Industrial Conglomerates</td>\n",
              "      <td>Saint Paul, Minnesota</td>\n",
              "      <td>1976-08-09</td>\n",
              "      <td>66740</td>\n",
              "      <td>1902</td>\n",
              "    </tr>\n",
              "    <tr>\n",
              "      <th>Information Technology</th>\n",
              "      <td>ACN</td>\n",
              "      <td>Accenture</td>\n",
              "      <td>reports</td>\n",
              "      <td>IT Consulting &amp; Other Services</td>\n",
              "      <td>Dublin, Ireland</td>\n",
              "      <td>2011-07-06</td>\n",
              "      <td>1467373</td>\n",
              "      <td>1989</td>\n",
              "    </tr>\n",
              "    <tr>\n",
              "      <th>Materials</th>\n",
              "      <td>APD</td>\n",
              "      <td>Air Products &amp; Chemicals</td>\n",
              "      <td>reports</td>\n",
              "      <td>Industrial Gases</td>\n",
              "      <td>Allentown, Pennsylvania</td>\n",
              "      <td>1985-04-30</td>\n",
              "      <td>2969</td>\n",
              "      <td>1940</td>\n",
              "    </tr>\n",
              "    <tr>\n",
              "      <th>Real Estate</th>\n",
              "      <td>ARE</td>\n",
              "      <td>Alexandria Real Estate Equities</td>\n",
              "      <td>reports</td>\n",
              "      <td>Office REITs</td>\n",
              "      <td>Pasadena, California</td>\n",
              "      <td>2017-03-20</td>\n",
              "      <td>1035443</td>\n",
              "      <td>1994</td>\n",
              "    </tr>\n",
              "    <tr>\n",
              "      <th>Utilities</th>\n",
              "      <td>AES</td>\n",
              "      <td>AES Corp</td>\n",
              "      <td>reports</td>\n",
              "      <td>Independent Power Producers &amp; Energy Traders</td>\n",
              "      <td>Arlington, Virginia</td>\n",
              "      <td>1998-10-02</td>\n",
              "      <td>874761</td>\n",
              "      <td>1981</td>\n",
              "    </tr>\n",
              "  </tbody>\n",
              "</table>\n",
              "</div>"
            ],
            "text/plain": [
              "                       Symbol                         Security  ...      CIK Founded\n",
              "GICS Sector                                                     ...                 \n",
              "Communication Services   ATVI              Activision Blizzard  ...   718877    2008\n",
              "Consumer Discretionary    AAP               Advance Auto Parts  ...  1158449    1932\n",
              "Consumer Staples           MO                     Altria Group  ...   764180    1985\n",
              "Energy                    APA                  APA Corporation  ...     6769    1954\n",
              "Financials                AFL                            Aflac  ...     4977    1955\n",
              "Health Care               ABT              Abbott Laboratories  ...     1800    1888\n",
              "Industrials               MMM                               3M  ...    66740    1902\n",
              "Information Technology    ACN                        Accenture  ...  1467373    1989\n",
              "Materials                 APD         Air Products & Chemicals  ...     2969    1940\n",
              "Real Estate               ARE  Alexandria Real Estate Equities  ...  1035443    1994\n",
              "Utilities                 AES                         AES Corp  ...   874761    1981\n",
              "\n",
              "[11 rows x 8 columns]"
            ]
          },
          "metadata": {
            "tags": []
          },
          "execution_count": 6
        }
      ]
    },
    {
      "cell_type": "code",
      "metadata": {
        "colab": {
          "base_uri": "https://localhost:8080/",
          "height": 457
        },
        "id": "tTkR7vjOOcFd",
        "outputId": "1efa8cb4-be99-4371-dc20-4d877b433480"
      },
      "source": [
        "sector.describe()"
      ],
      "execution_count": null,
      "outputs": [
        {
          "output_type": "execute_result",
          "data": {
            "text/html": [
              "<div>\n",
              "<style scoped>\n",
              "    .dataframe tbody tr th:only-of-type {\n",
              "        vertical-align: middle;\n",
              "    }\n",
              "\n",
              "    .dataframe tbody tr th {\n",
              "        vertical-align: top;\n",
              "    }\n",
              "\n",
              "    .dataframe thead tr th {\n",
              "        text-align: left;\n",
              "    }\n",
              "\n",
              "    .dataframe thead tr:last-of-type th {\n",
              "        text-align: right;\n",
              "    }\n",
              "</style>\n",
              "<table border=\"1\" class=\"dataframe\">\n",
              "  <thead>\n",
              "    <tr>\n",
              "      <th></th>\n",
              "      <th colspan=\"8\" halign=\"left\">CIK</th>\n",
              "    </tr>\n",
              "    <tr>\n",
              "      <th></th>\n",
              "      <th>count</th>\n",
              "      <th>mean</th>\n",
              "      <th>std</th>\n",
              "      <th>min</th>\n",
              "      <th>25%</th>\n",
              "      <th>50%</th>\n",
              "      <th>75%</th>\n",
              "      <th>max</th>\n",
              "    </tr>\n",
              "    <tr>\n",
              "      <th>GICS Sector</th>\n",
              "      <th></th>\n",
              "      <th></th>\n",
              "      <th></th>\n",
              "      <th></th>\n",
              "      <th></th>\n",
              "      <th></th>\n",
              "      <th></th>\n",
              "      <th></th>\n",
              "    </tr>\n",
              "  </thead>\n",
              "  <tbody>\n",
              "    <tr>\n",
              "      <th>Communication Services</th>\n",
              "      <td>26.0</td>\n",
              "      <td>1.115660e+06</td>\n",
              "      <td>524383.320718</td>\n",
              "      <td>18926.0</td>\n",
              "      <td>752994.75</td>\n",
              "      <td>1225195.0</td>\n",
              "      <td>1532807.75</td>\n",
              "      <td>1754301.0</td>\n",
              "    </tr>\n",
              "    <tr>\n",
              "      <th>Consumer Discretionary</th>\n",
              "      <td>63.0</td>\n",
              "      <td>8.477582e+05</td>\n",
              "      <td>475172.166505</td>\n",
              "      <td>27419.0</td>\n",
              "      <td>723858.50</td>\n",
              "      <td>920760.0</td>\n",
              "      <td>1164229.50</td>\n",
              "      <td>1590895.0</td>\n",
              "    </tr>\n",
              "    <tr>\n",
              "      <th>Consumer Staples</th>\n",
              "      <td>32.0</td>\n",
              "      <td>3.872794e+05</td>\n",
              "      <td>564407.571740</td>\n",
              "      <td>7084.0</td>\n",
              "      <td>24213.00</td>\n",
              "      <td>70615.0</td>\n",
              "      <td>789573.00</td>\n",
              "      <td>1679273.0</td>\n",
              "    </tr>\n",
              "    <tr>\n",
              "      <th>Energy</th>\n",
              "      <td>22.0</td>\n",
              "      <td>7.790030e+05</td>\n",
              "      <td>606535.723781</td>\n",
              "      <td>4447.0</td>\n",
              "      <td>95502.00</td>\n",
              "      <td>940165.0</td>\n",
              "      <td>1144876.75</td>\n",
              "      <td>1701605.0</td>\n",
              "    </tr>\n",
              "    <tr>\n",
              "      <th>Financials</th>\n",
              "      <td>65.0</td>\n",
              "      <td>6.313738e+05</td>\n",
              "      <td>542517.054005</td>\n",
              "      <td>4962.0</td>\n",
              "      <td>64040.00</td>\n",
              "      <td>720005.0</td>\n",
              "      <td>1120193.00</td>\n",
              "      <td>1601712.0</td>\n",
              "    </tr>\n",
              "    <tr>\n",
              "      <th>Health Care</th>\n",
              "      <td>64.0</td>\n",
              "      <td>8.158064e+05</td>\n",
              "      <td>527611.451375</td>\n",
              "      <td>1800.0</td>\n",
              "      <td>312903.00</td>\n",
              "      <td>880632.0</td>\n",
              "      <td>1097811.75</td>\n",
              "      <td>1821825.0</td>\n",
              "    </tr>\n",
              "    <tr>\n",
              "      <th>Industrials</th>\n",
              "      <td>74.0</td>\n",
              "      <td>6.859374e+05</td>\n",
              "      <td>592033.294395</td>\n",
              "      <td>4281.0</td>\n",
              "      <td>79229.75</td>\n",
              "      <td>756468.0</td>\n",
              "      <td>1084970.50</td>\n",
              "      <td>1783180.0</td>\n",
              "    </tr>\n",
              "    <tr>\n",
              "      <th>Information Technology</th>\n",
              "      <td>74.0</td>\n",
              "      <td>8.987211e+05</td>\n",
              "      <td>499064.848336</td>\n",
              "      <td>2488.0</td>\n",
              "      <td>743484.00</td>\n",
              "      <td>880565.5</td>\n",
              "      <td>1275848.75</td>\n",
              "      <td>1730168.0</td>\n",
              "    </tr>\n",
              "    <tr>\n",
              "      <th>Materials</th>\n",
              "      <td>28.0</td>\n",
              "      <td>8.369064e+05</td>\n",
              "      <td>699182.236462</td>\n",
              "      <td>2969.0</td>\n",
              "      <td>67840.25</td>\n",
              "      <td>915994.5</td>\n",
              "      <td>1419355.00</td>\n",
              "      <td>1755672.0</td>\n",
              "    </tr>\n",
              "    <tr>\n",
              "      <th>Real Estate</th>\n",
              "      <td>29.0</td>\n",
              "      <td>8.957202e+05</td>\n",
              "      <td>327862.587502</td>\n",
              "      <td>34903.0</td>\n",
              "      <td>783280.00</td>\n",
              "      <td>920522.0</td>\n",
              "      <td>1053507.00</td>\n",
              "      <td>1393311.0</td>\n",
              "    </tr>\n",
              "    <tr>\n",
              "      <th>Utilities</th>\n",
              "      <td>28.0</td>\n",
              "      <td>8.035041e+05</td>\n",
              "      <td>431315.460314</td>\n",
              "      <td>4904.0</td>\n",
              "      <td>727840.75</td>\n",
              "      <td>850906.5</td>\n",
              "      <td>1036121.50</td>\n",
              "      <td>1711269.0</td>\n",
              "    </tr>\n",
              "  </tbody>\n",
              "</table>\n",
              "</div>"
            ],
            "text/plain": [
              "                         CIK                ...                       \n",
              "                       count          mean  ...         75%        max\n",
              "GICS Sector                                 ...                       \n",
              "Communication Services  26.0  1.115660e+06  ...  1532807.75  1754301.0\n",
              "Consumer Discretionary  63.0  8.477582e+05  ...  1164229.50  1590895.0\n",
              "Consumer Staples        32.0  3.872794e+05  ...   789573.00  1679273.0\n",
              "Energy                  22.0  7.790030e+05  ...  1144876.75  1701605.0\n",
              "Financials              65.0  6.313738e+05  ...  1120193.00  1601712.0\n",
              "Health Care             64.0  8.158064e+05  ...  1097811.75  1821825.0\n",
              "Industrials             74.0  6.859374e+05  ...  1084970.50  1783180.0\n",
              "Information Technology  74.0  8.987211e+05  ...  1275848.75  1730168.0\n",
              "Materials               28.0  8.369064e+05  ...  1419355.00  1755672.0\n",
              "Real Estate             29.0  8.957202e+05  ...  1053507.00  1393311.0\n",
              "Utilities               28.0  8.035041e+05  ...  1036121.50  1711269.0\n",
              "\n",
              "[11 rows x 8 columns]"
            ]
          },
          "metadata": {
            "tags": []
          },
          "execution_count": 7
        }
      ]
    },
    {
      "cell_type": "code",
      "metadata": {
        "colab": {
          "base_uri": "https://localhost:8080/",
          "height": 423
        },
        "id": "rhbulqZDOb90",
        "outputId": "43c72330-8cf4-468a-8d7c-ab97529d779f"
      },
      "source": [
        "sector.get_group('Health Care')"
      ],
      "execution_count": null,
      "outputs": [
        {
          "output_type": "execute_result",
          "data": {
            "text/html": [
              "<div>\n",
              "<style scoped>\n",
              "    .dataframe tbody tr th:only-of-type {\n",
              "        vertical-align: middle;\n",
              "    }\n",
              "\n",
              "    .dataframe tbody tr th {\n",
              "        vertical-align: top;\n",
              "    }\n",
              "\n",
              "    .dataframe thead th {\n",
              "        text-align: right;\n",
              "    }\n",
              "</style>\n",
              "<table border=\"1\" class=\"dataframe\">\n",
              "  <thead>\n",
              "    <tr style=\"text-align: right;\">\n",
              "      <th></th>\n",
              "      <th>Symbol</th>\n",
              "      <th>Security</th>\n",
              "      <th>SEC filings</th>\n",
              "      <th>GICS Sector</th>\n",
              "      <th>GICS Sub-Industry</th>\n",
              "      <th>Headquarters Location</th>\n",
              "      <th>Date first added</th>\n",
              "      <th>CIK</th>\n",
              "      <th>Founded</th>\n",
              "    </tr>\n",
              "  </thead>\n",
              "  <tbody>\n",
              "    <tr>\n",
              "      <th>1</th>\n",
              "      <td>ABT</td>\n",
              "      <td>Abbott Laboratories</td>\n",
              "      <td>reports</td>\n",
              "      <td>Health Care</td>\n",
              "      <td>Health Care Equipment</td>\n",
              "      <td>North Chicago, Illinois</td>\n",
              "      <td>1964-03-31</td>\n",
              "      <td>1800</td>\n",
              "      <td>1888</td>\n",
              "    </tr>\n",
              "    <tr>\n",
              "      <th>2</th>\n",
              "      <td>ABBV</td>\n",
              "      <td>AbbVie</td>\n",
              "      <td>reports</td>\n",
              "      <td>Health Care</td>\n",
              "      <td>Pharmaceuticals</td>\n",
              "      <td>North Chicago, Illinois</td>\n",
              "      <td>2012-12-31</td>\n",
              "      <td>1551152</td>\n",
              "      <td>2013 (1888)</td>\n",
              "    </tr>\n",
              "    <tr>\n",
              "      <th>3</th>\n",
              "      <td>ABMD</td>\n",
              "      <td>Abiomed</td>\n",
              "      <td>reports</td>\n",
              "      <td>Health Care</td>\n",
              "      <td>Health Care Equipment</td>\n",
              "      <td>Danvers, Massachusetts</td>\n",
              "      <td>2018-05-31</td>\n",
              "      <td>815094</td>\n",
              "      <td>1981</td>\n",
              "    </tr>\n",
              "    <tr>\n",
              "      <th>11</th>\n",
              "      <td>A</td>\n",
              "      <td>Agilent Technologies</td>\n",
              "      <td>reports</td>\n",
              "      <td>Health Care</td>\n",
              "      <td>Health Care Equipment</td>\n",
              "      <td>Santa Clara, California</td>\n",
              "      <td>2000-06-05</td>\n",
              "      <td>1090872</td>\n",
              "      <td>1999</td>\n",
              "    </tr>\n",
              "    <tr>\n",
              "      <th>17</th>\n",
              "      <td>ALXN</td>\n",
              "      <td>Alexion Pharmaceuticals</td>\n",
              "      <td>reports</td>\n",
              "      <td>Health Care</td>\n",
              "      <td>Pharmaceuticals</td>\n",
              "      <td>Boston, Massachusetts</td>\n",
              "      <td>2012-05-25</td>\n",
              "      <td>899866</td>\n",
              "      <td>1992</td>\n",
              "    </tr>\n",
              "    <tr>\n",
              "      <th>...</th>\n",
              "      <td>...</td>\n",
              "      <td>...</td>\n",
              "      <td>...</td>\n",
              "      <td>...</td>\n",
              "      <td>...</td>\n",
              "      <td>...</td>\n",
              "      <td>...</td>\n",
              "      <td>...</td>\n",
              "      <td>...</td>\n",
              "    </tr>\n",
              "    <tr>\n",
              "      <th>474</th>\n",
              "      <td>VTRS</td>\n",
              "      <td>Viatris</td>\n",
              "      <td>reports</td>\n",
              "      <td>Health Care</td>\n",
              "      <td>Pharmaceuticals</td>\n",
              "      <td>Pittsburgh, Pennsylvania</td>\n",
              "      <td>2004-04-23</td>\n",
              "      <td>1792044</td>\n",
              "      <td>1961</td>\n",
              "    </tr>\n",
              "    <tr>\n",
              "      <th>484</th>\n",
              "      <td>WAT</td>\n",
              "      <td>Waters Corporation</td>\n",
              "      <td>reports</td>\n",
              "      <td>Health Care</td>\n",
              "      <td>Health Care Distributors</td>\n",
              "      <td>Milford, Massachusetts</td>\n",
              "      <td>NaN</td>\n",
              "      <td>1000697</td>\n",
              "      <td>1958</td>\n",
              "    </tr>\n",
              "    <tr>\n",
              "      <th>488</th>\n",
              "      <td>WST</td>\n",
              "      <td>West Pharmaceutical Services</td>\n",
              "      <td>reports</td>\n",
              "      <td>Health Care</td>\n",
              "      <td>Health Care Supplies</td>\n",
              "      <td>Exton, Pennsylvania</td>\n",
              "      <td>2020-05-22</td>\n",
              "      <td>105770</td>\n",
              "      <td>1923</td>\n",
              "    </tr>\n",
              "    <tr>\n",
              "      <th>502</th>\n",
              "      <td>ZBH</td>\n",
              "      <td>Zimmer Biomet</td>\n",
              "      <td>reports</td>\n",
              "      <td>Health Care</td>\n",
              "      <td>Health Care Equipment</td>\n",
              "      <td>Warsaw, Indiana</td>\n",
              "      <td>2001-08-07</td>\n",
              "      <td>1136869</td>\n",
              "      <td>1927</td>\n",
              "    </tr>\n",
              "    <tr>\n",
              "      <th>504</th>\n",
              "      <td>ZTS</td>\n",
              "      <td>Zoetis</td>\n",
              "      <td>reports</td>\n",
              "      <td>Health Care</td>\n",
              "      <td>Pharmaceuticals</td>\n",
              "      <td>Parsippany, New Jersey</td>\n",
              "      <td>2013-06-21</td>\n",
              "      <td>1555280</td>\n",
              "      <td>1952</td>\n",
              "    </tr>\n",
              "  </tbody>\n",
              "</table>\n",
              "<p>64 rows × 9 columns</p>\n",
              "</div>"
            ],
            "text/plain": [
              "    Symbol                      Security  ...      CIK      Founded\n",
              "1      ABT           Abbott Laboratories  ...     1800         1888\n",
              "2     ABBV                        AbbVie  ...  1551152  2013 (1888)\n",
              "3     ABMD                       Abiomed  ...   815094         1981\n",
              "11       A          Agilent Technologies  ...  1090872         1999\n",
              "17    ALXN       Alexion Pharmaceuticals  ...   899866         1992\n",
              "..     ...                           ...  ...      ...          ...\n",
              "474   VTRS                       Viatris  ...  1792044         1961\n",
              "484    WAT            Waters Corporation  ...  1000697         1958\n",
              "488    WST  West Pharmaceutical Services  ...   105770         1923\n",
              "502    ZBH                 Zimmer Biomet  ...  1136869         1927\n",
              "504    ZTS                        Zoetis  ...  1555280         1952\n",
              "\n",
              "[64 rows x 9 columns]"
            ]
          },
          "metadata": {
            "tags": []
          },
          "execution_count": 8
        }
      ]
    },
    {
      "cell_type": "code",
      "metadata": {
        "id": "pQcdEoy4H14b",
        "colab": {
          "base_uri": "https://localhost:8080/"
        },
        "outputId": "d2eb3b32-51b8-4677-ca63-7b0e3d352b05"
      },
      "source": [
        "\n",
        "! pip install -q streamlit\n",
        "! pip install -q pyngrok\n",
        "! pip install -q yfinance"
      ],
      "execution_count": null,
      "outputs": [
        {
          "output_type": "stream",
          "text": [
            "\u001b[K     |████████████████████████████████| 7.8MB 8.7MB/s \n",
            "\u001b[K     |████████████████████████████████| 4.2MB 38.6MB/s \n",
            "\u001b[K     |████████████████████████████████| 81kB 8.8MB/s \n",
            "\u001b[K     |████████████████████████████████| 174kB 49.5MB/s \n",
            "\u001b[K     |████████████████████████████████| 112kB 46.9MB/s \n",
            "\u001b[K     |████████████████████████████████| 122kB 47.8MB/s \n",
            "\u001b[K     |████████████████████████████████| 71kB 9.7MB/s \n",
            "\u001b[?25h  Building wheel for blinker (setup.py) ... \u001b[?25l\u001b[?25hdone\n",
            "\u001b[31mERROR: google-colab 1.0.0 has requirement ipykernel~=4.10, but you'll have ipykernel 5.5.5 which is incompatible.\u001b[0m\n",
            "\u001b[K     |████████████████████████████████| 747kB 8.8MB/s \n",
            "\u001b[?25h  Building wheel for pyngrok (setup.py) ... \u001b[?25l\u001b[?25hdone\n",
            "\u001b[K     |████████████████████████████████| 6.3MB 15.0MB/s \n",
            "\u001b[?25h  Building wheel for yfinance (setup.py) ... \u001b[?25l\u001b[?25hdone\n"
          ],
          "name": "stdout"
        }
      ]
    },
    {
      "cell_type": "code",
      "metadata": {
        "colab": {
          "base_uri": "https://localhost:8080/"
        },
        "id": "M0jMw7WGtNkh",
        "outputId": "9532efb0-f989-4fb4-b213-f8a1f93aa81d"
      },
      "source": [
        "!ngrok authtoken 1sWqvW0WT1M7eMwOooWScuUEVVb_dygp8ekRGPiEiEoPpuWs"
      ],
      "execution_count": null,
      "outputs": [
        {
          "output_type": "stream",
          "text": [
            "Authtoken saved to configuration file: /root/.ngrok2/ngrok.yml\n"
          ],
          "name": "stdout"
        }
      ]
    },
    {
      "cell_type": "code",
      "metadata": {
        "id": "EyIUym3TtMoz"
      },
      "source": [
        "#!ngrok"
      ],
      "execution_count": null,
      "outputs": []
    },
    {
      "cell_type": "code",
      "metadata": {
        "id": "8Zl2E-AttMhf"
      },
      "source": [
        "from pyngrok import ngrok"
      ],
      "execution_count": null,
      "outputs": []
    },
    {
      "cell_type": "code",
      "metadata": {
        "id": "VJkTzHEpSXE2"
      },
      "source": [
        ""
      ],
      "execution_count": null,
      "outputs": []
    },
    {
      "cell_type": "code",
      "metadata": {
        "colab": {
          "base_uri": "https://localhost:8080/"
        },
        "id": "27tNk3JqJeLv",
        "outputId": "895c384d-8ee2-4d57-c313-c4905c58d71e"
      },
      "source": [
        "\n",
        "%%writefile app.py\n",
        "import pandas as pd\n",
        "import streamlit as st\n",
        "import base64\n",
        "import matplotlib.pyplot as plt\n",
        "import yfinance as yf\n",
        "import plotly.graph_objects as go\n",
        "\n",
        "\n",
        "\n",
        "\n",
        "\n",
        "st.set_option('deprecation.showPyplotGlobalUse', False)\n",
        "\n",
        "\n",
        "st.title('Stock Price Tracking App')\n",
        "\n",
        "\n",
        "st.markdown(\"\"\"\n",
        "This app retrieves the list of the data (from Wikipedia) and its corresponding **stock closing price** (year-to-date)!\n",
        "* **Python libraries:** base64, pandas, streamlit, matplotlib, yfinance\n",
        "* **Data source:** [Wikipedia](https://en.wikipedia.org/wiki/List_of_S%26P_500_companies).\n",
        "\"\"\")\n",
        "\n",
        "st.sidebar.header('User Input Features')\n",
        "\n",
        "\n",
        "# Web scraping of S&P 500 data\n",
        "#\n",
        "@st.cache\n",
        "def load_data():\n",
        "    url = 'https://en.wikipedia.org/wiki/List_of_S%26P_500_companies'\n",
        "    html = pd.read_html(url, header = 0)\n",
        "    df = html[0]\n",
        "    return df\n",
        "\n",
        "\n",
        "\n",
        "\n",
        "\n",
        "\n",
        "df = load_data()\n",
        "sector = df.groupby('GICS Sector')\n",
        "\n",
        "# Sidebar - Sector selection\n",
        "sorted_sector_unique = sorted( df['GICS Sector'].unique() )\n",
        "selected_sector = st.sidebar.multiselect('Sector', sorted_sector_unique, sorted_sector_unique)\n",
        "\n",
        "\n",
        "# Filtering data\n",
        "df_selected_sector = df[ (df['GICS Sector'].isin(selected_sector)) ]\n",
        "\n",
        "st.header('Display Companies in Selected Sector')\n",
        "st.write('Data Dimension: ' + str(df_selected_sector.shape[0]) + ' rows and ' + str(df_selected_sector.shape[1]) + ' columns.')\n",
        "st.dataframe(df_selected_sector)\n",
        "\n",
        "# Download  data\n",
        "def filedownload(df):\n",
        "    csv = df.to_csv(index=False)\n",
        "    b64 = base64.b64encode(csv.encode()).decode()  # strings <-> bytes conversions\n",
        "    href = f'<a href=\"data:file/csv;base64,{b64}\" download=\"SP500.csv\">Download CSV File</a>'\n",
        "    return href\n",
        "\n",
        "\n",
        "\n",
        "\n",
        "st.markdown(filedownload(df_selected_sector), unsafe_allow_html=True)\n",
        "\n",
        "\n",
        "\n",
        "\n",
        "# https://pypi.org/project/yfinance/\n",
        "\n",
        "data = yf.download(\n",
        "        tickers = list(df_selected_sector[:10].Symbol),\n",
        "        period = \"ytd\",\n",
        "        interval = \"1d\",\n",
        "        group_by = 'ticker',\n",
        "        auto_adjust = True,\n",
        "        prepost = True,\n",
        "        threads = True,\n",
        "        proxy = None\n",
        "\n",
        "    \n",
        ")\n",
        "\n",
        "\n",
        "\n",
        "\n",
        "# Plot Closing Price of Query Symbol\n",
        "def price_plot(symbol):\n",
        "  df = pd.DataFrame(data[symbol].Close)\n",
        "  df['Date'] = df.index\n",
        "  plt.fill_between(df.Date, df.Close, color='blue', alpha=0.3)\n",
        "  plt.plot(df.Date, df.Close, color='blue', alpha=0.8)\n",
        "  plt.xticks(rotation=90)\n",
        "  plt.title(symbol, fontweight='bold')\n",
        "  plt.xlabel('Date', fontweight='bold')\n",
        "  plt.ylabel('Closing Price', fontweight='bold')\n",
        "  return st.pyplot()\n",
        "\n",
        "num_company = st.sidebar.slider('Number of Companies', 1, 10)\n",
        "\n",
        "if st.button('Show Plots'):\n",
        "    st.header('Stock Closing Price')\n",
        "    for i in list(df_selected_sector.Symbol)[:num_company]:\n",
        "        price_plot(i)\n",
        "\n",
        "\n",
        "\n",
        "\n",
        "\n",
        "\n"
      ],
      "execution_count": null,
      "outputs": [
        {
          "output_type": "stream",
          "text": [
            "Writing app.py\n"
          ],
          "name": "stdout"
        }
      ]
    },
    {
      "cell_type": "code",
      "metadata": {
        "id": "wDABVgFJQzqE"
      },
      "source": [
        "###Importing the Yfinance library###"
      ],
      "execution_count": null,
      "outputs": []
    },
    {
      "cell_type": "code",
      "metadata": {
        "id": "u18rgQwYy6kW"
      },
      "source": [
        "#To install yfinance library"
      ],
      "execution_count": null,
      "outputs": []
    },
    {
      "cell_type": "code",
      "metadata": {
        "id": "5pXvUChay6bZ"
      },
      "source": [
        "! pip install -q yfinance"
      ],
      "execution_count": null,
      "outputs": []
    },
    {
      "cell_type": "code",
      "metadata": {
        "colab": {
          "base_uri": "https://localhost:8080/"
        },
        "id": "r1e3yPzjy6WE",
        "outputId": "5f1a5812-1e13-4fb0-8364-359d5c1447f2"
      },
      "source": [
        "import yfinance as yf\n",
        "msft = yf.Ticker('ABBV')\n",
        "data = msft\n",
        "data"
      ],
      "execution_count": null,
      "outputs": [
        {
          "output_type": "execute_result",
          "data": {
            "text/plain": [
              "yfinance.Ticker object <ABBV>"
            ]
          },
          "metadata": {
            "tags": []
          },
          "execution_count": 17
        }
      ]
    },
    {
      "cell_type": "code",
      "metadata": {
        "colab": {
          "base_uri": "https://localhost:8080/",
          "height": 455
        },
        "id": "ACcUVnWudN0o",
        "outputId": "3117e2dc-2cf7-4595-d86f-930731269eaf"
      },
      "source": [
        "data = pd.DataFrame()\n",
        "data =msft.history(period = 'max')\n",
        "data\n",
        "#data.to_csv('msft_5d.csv', encoding='utf_8_sig')\n",
        "#files.download('msft_5d.csv')\n"
      ],
      "execution_count": null,
      "outputs": [
        {
          "output_type": "execute_result",
          "data": {
            "text/html": [
              "<div>\n",
              "<style scoped>\n",
              "    .dataframe tbody tr th:only-of-type {\n",
              "        vertical-align: middle;\n",
              "    }\n",
              "\n",
              "    .dataframe tbody tr th {\n",
              "        vertical-align: top;\n",
              "    }\n",
              "\n",
              "    .dataframe thead th {\n",
              "        text-align: right;\n",
              "    }\n",
              "</style>\n",
              "<table border=\"1\" class=\"dataframe\">\n",
              "  <thead>\n",
              "    <tr style=\"text-align: right;\">\n",
              "      <th></th>\n",
              "      <th>Open</th>\n",
              "      <th>High</th>\n",
              "      <th>Low</th>\n",
              "      <th>Close</th>\n",
              "      <th>Volume</th>\n",
              "      <th>Dividends</th>\n",
              "      <th>Stock Splits</th>\n",
              "    </tr>\n",
              "    <tr>\n",
              "      <th>Date</th>\n",
              "      <th></th>\n",
              "      <th></th>\n",
              "      <th></th>\n",
              "      <th></th>\n",
              "      <th></th>\n",
              "      <th></th>\n",
              "      <th></th>\n",
              "    </tr>\n",
              "  </thead>\n",
              "  <tbody>\n",
              "    <tr>\n",
              "      <th>2013-01-02</th>\n",
              "      <td>24.660341</td>\n",
              "      <td>24.999317</td>\n",
              "      <td>24.081261</td>\n",
              "      <td>24.801580</td>\n",
              "      <td>13767900</td>\n",
              "      <td>0.0</td>\n",
              "      <td>0</td>\n",
              "    </tr>\n",
              "    <tr>\n",
              "      <th>2013-01-03</th>\n",
              "      <td>24.716840</td>\n",
              "      <td>24.716840</td>\n",
              "      <td>24.123636</td>\n",
              "      <td>24.596788</td>\n",
              "      <td>16739300</td>\n",
              "      <td>0.0</td>\n",
              "      <td>0</td>\n",
              "    </tr>\n",
              "    <tr>\n",
              "      <th>2013-01-04</th>\n",
              "      <td>24.448481</td>\n",
              "      <td>24.639154</td>\n",
              "      <td>24.187190</td>\n",
              "      <td>24.286057</td>\n",
              "      <td>21372100</td>\n",
              "      <td>0.0</td>\n",
              "      <td>0</td>\n",
              "    </tr>\n",
              "    <tr>\n",
              "      <th>2013-01-07</th>\n",
              "      <td>24.116576</td>\n",
              "      <td>25.034630</td>\n",
              "      <td>24.116576</td>\n",
              "      <td>24.335495</td>\n",
              "      <td>17897100</td>\n",
              "      <td>0.0</td>\n",
              "      <td>0</td>\n",
              "    </tr>\n",
              "    <tr>\n",
              "      <th>2013-01-08</th>\n",
              "      <td>24.215440</td>\n",
              "      <td>24.462607</td>\n",
              "      <td>23.558678</td>\n",
              "      <td>23.805845</td>\n",
              "      <td>17863300</td>\n",
              "      <td>0.0</td>\n",
              "      <td>0</td>\n",
              "    </tr>\n",
              "    <tr>\n",
              "      <th>...</th>\n",
              "      <td>...</td>\n",
              "      <td>...</td>\n",
              "      <td>...</td>\n",
              "      <td>...</td>\n",
              "      <td>...</td>\n",
              "      <td>...</td>\n",
              "      <td>...</td>\n",
              "    </tr>\n",
              "    <tr>\n",
              "      <th>2021-06-11</th>\n",
              "      <td>116.239998</td>\n",
              "      <td>116.360001</td>\n",
              "      <td>114.870003</td>\n",
              "      <td>115.419998</td>\n",
              "      <td>4469700</td>\n",
              "      <td>0.0</td>\n",
              "      <td>0</td>\n",
              "    </tr>\n",
              "    <tr>\n",
              "      <th>2021-06-14</th>\n",
              "      <td>115.070000</td>\n",
              "      <td>115.480003</td>\n",
              "      <td>114.190002</td>\n",
              "      <td>115.400002</td>\n",
              "      <td>4427600</td>\n",
              "      <td>0.0</td>\n",
              "      <td>0</td>\n",
              "    </tr>\n",
              "    <tr>\n",
              "      <th>2021-06-15</th>\n",
              "      <td>115.360001</td>\n",
              "      <td>115.940002</td>\n",
              "      <td>114.519997</td>\n",
              "      <td>115.830002</td>\n",
              "      <td>3590500</td>\n",
              "      <td>0.0</td>\n",
              "      <td>0</td>\n",
              "    </tr>\n",
              "    <tr>\n",
              "      <th>2021-06-16</th>\n",
              "      <td>116.220001</td>\n",
              "      <td>116.529999</td>\n",
              "      <td>115.169998</td>\n",
              "      <td>115.529999</td>\n",
              "      <td>6669800</td>\n",
              "      <td>0.0</td>\n",
              "      <td>0</td>\n",
              "    </tr>\n",
              "    <tr>\n",
              "      <th>2021-06-17</th>\n",
              "      <td>114.980003</td>\n",
              "      <td>115.889999</td>\n",
              "      <td>114.029999</td>\n",
              "      <td>114.900002</td>\n",
              "      <td>4085167</td>\n",
              "      <td>0.0</td>\n",
              "      <td>0</td>\n",
              "    </tr>\n",
              "  </tbody>\n",
              "</table>\n",
              "<p>2130 rows × 7 columns</p>\n",
              "</div>"
            ],
            "text/plain": [
              "                  Open        High  ...  Dividends  Stock Splits\n",
              "Date                                ...                         \n",
              "2013-01-02   24.660341   24.999317  ...        0.0             0\n",
              "2013-01-03   24.716840   24.716840  ...        0.0             0\n",
              "2013-01-04   24.448481   24.639154  ...        0.0             0\n",
              "2013-01-07   24.116576   25.034630  ...        0.0             0\n",
              "2013-01-08   24.215440   24.462607  ...        0.0             0\n",
              "...                ...         ...  ...        ...           ...\n",
              "2021-06-11  116.239998  116.360001  ...        0.0             0\n",
              "2021-06-14  115.070000  115.480003  ...        0.0             0\n",
              "2021-06-15  115.360001  115.940002  ...        0.0             0\n",
              "2021-06-16  116.220001  116.529999  ...        0.0             0\n",
              "2021-06-17  114.980003  115.889999  ...        0.0             0\n",
              "\n",
              "[2130 rows x 7 columns]"
            ]
          },
          "metadata": {
            "tags": []
          },
          "execution_count": 18
        }
      ]
    },
    {
      "cell_type": "code",
      "metadata": {
        "id": "ksypm88OyoYI"
      },
      "source": [
        "#df = pd.DataFrame(data['ABT'].Close)\n",
        "#df['Date']= data.index"
      ],
      "execution_count": null,
      "outputs": []
    },
    {
      "cell_type": "code",
      "metadata": {
        "id": "BaSQ7X2eMZ0O"
      },
      "source": [
        "#list(df.Symbol)"
      ],
      "execution_count": null,
      "outputs": []
    },
    {
      "cell_type": "code",
      "metadata": {
        "id": "B-It8Jm0yrm9"
      },
      "source": [
        "###Ploting the graph##"
      ],
      "execution_count": null,
      "outputs": []
    },
    {
      "cell_type": "code",
      "metadata": {
        "id": "7E1nOPcIdu6p"
      },
      "source": [
        "import matplotlib.pyplot as plt"
      ],
      "execution_count": null,
      "outputs": []
    },
    {
      "cell_type": "code",
      "metadata": {
        "colab": {
          "base_uri": "https://localhost:8080/",
          "height": 283
        },
        "id": "f1nkgKPidNsR",
        "outputId": "de1d86cb-da50-4562-b35d-47e8fd1374cb"
      },
      "source": [
        "plt.plot(data['Close'])"
      ],
      "execution_count": null,
      "outputs": [
        {
          "output_type": "execute_result",
          "data": {
            "text/plain": [
              "[<matplotlib.lines.Line2D at 0x7f67e1356f50>]"
            ]
          },
          "metadata": {
            "tags": []
          },
          "execution_count": 23
        },
        {
          "output_type": "display_data",
          "data": {
            "image/png": "[encoded data removed]",
            "text/plain": [
              "<Figure size 432x288 with 1 Axes>"
            ]
          },
          "metadata": {
            "tags": [],
            "needs_background": "light"
          }
        }
      ]
    },
    {
      "cell_type": "code",
      "metadata": {
        "id": "1WL0poCVNMlU"
      },
      "source": [
        "import plotly.graph_objects as go"
      ],
      "execution_count": null,
      "outputs": []
    },
    {
      "cell_type": "markdown",
      "metadata": {
        "id": "TYZ-SMxJTpi2"
      },
      "source": [
        ""
      ]
    },
    {
      "cell_type": "code",
      "metadata": {
        "colab": {
          "base_uri": "https://localhost:8080/"
        },
        "id": "nPZ-ABruYIrd",
        "outputId": "e05c9a14-8b05-4535-8a39-cb27184bc19a"
      },
      "source": [
        "# This is a linux command (non Colab notebook commands can be executed by adding a ! beforehand)\n",
        "# You should see the app.py file in your directory or when you click on the directory icon to the left of the Colab navigation bar\n",
        "!ls"
      ],
      "execution_count": null,
      "outputs": [
        {
          "output_type": "stream",
          "text": [
            "app.py\tsample_data\n"
          ],
          "name": "stdout"
        }
      ]
    },
    {
      "cell_type": "code",
      "metadata": {
        "id": "wYAh8py2JkwQ"
      },
      "source": [
        "# This is a command starting up Streamlit in you Colab environment and running it in the background so you can continue working in the notebook\n",
        "! streamlit run app.py&>/dev/null&"
      ],
      "execution_count": null,
      "outputs": []
    },
    {
      "cell_type": "code",
      "metadata": {
        "colab": {
          "base_uri": "https://localhost:8080/"
        },
        "id": "cFfe8gh7YM-G",
        "outputId": "17a958f8-34cf-4941-da0e-ea74ab041188"
      },
      "source": [
        "# This command establishes a connection (\"tunnel\") between the Colab environment (which now basically serves a backend) and the domain under which you can review your app\n",
        "publ_url = ngrok.connect(addr=\"8501\")\n",
        "publ_url"
      ],
      "execution_count": null,
      "outputs": [
        {
          "output_type": "execute_result",
          "data": {
            "text/plain": [
              "<NgrokTunnel: \"http://6c4810c88338.ngrok.io\" -> \"http://localhost:8501\">"
            ]
          },
          "metadata": {
            "tags": []
          },
          "execution_count": 29
        }
      ]
    },
    {
      "cell_type": "code",
      "metadata": {
        "id": "rJs1e0O0YcZ1"
      },
      "source": [
        ""
      ],
      "execution_count": null,
      "outputs": []
    },
    {
      "cell_type": "code",
      "metadata": {
        "id": "I-YaSMcSVJiu"
      },
      "source": [
        ""
      ],
      "execution_count": null,
      "outputs": []
    }
  ]
}